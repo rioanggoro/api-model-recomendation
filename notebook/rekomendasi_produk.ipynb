{
 "cells": [
  {
   "cell_type": "markdown",
   "metadata": {
    "id": "9wpr_uuoQWDS"
   },
   "source": [
    "import from google drive"
   ]
  },
  {
   "cell_type": "markdown",
   "metadata": {
    "id": "lhjmU_KiQUiA"
   },
   "source": [
    "Import Library yang Dibutuhkan"
   ]
  },
  {
   "cell_type": "code",
   "execution_count": 11,
   "metadata": {
    "id": "Wvp0KOG7QmPt"
   },
   "outputs": [],
   "source": [
    "import pandas as pd\n",
    "from sklearn.feature_extraction.text import TfidfVectorizer\n",
    "from sklearn.linear_model import LinearRegression\n",
    "from sklearn.model_selection import train_test_split\n",
    "from sklearn.metrics import mean_absolute_error\n"
   ]
  },
  {
   "cell_type": "markdown",
   "metadata": {
    "id": "RKv2j4WpQslE"
   },
   "source": [
    " Muat Dataset"
   ]
  },
  {
   "cell_type": "code",
   "execution_count": 12,
   "metadata": {
    "colab": {
     "base_uri": "https://localhost:8080/",
     "height": 206
    },
    "id": "g9GM_B8BQuKs",
    "outputId": "50a0d54e-5757-4464-9765-ece1d7859c64"
   },
   "outputs": [
    {
     "data": {
      "text/html": [
       "<div>\n",
       "<style scoped>\n",
       "    .dataframe tbody tr th:only-of-type {\n",
       "        vertical-align: middle;\n",
       "    }\n",
       "\n",
       "    .dataframe tbody tr th {\n",
       "        vertical-align: top;\n",
       "    }\n",
       "\n",
       "    .dataframe thead th {\n",
       "        text-align: right;\n",
       "    }\n",
       "</style>\n",
       "<table border=\"1\" class=\"dataframe\">\n",
       "  <thead>\n",
       "    <tr style=\"text-align: right;\">\n",
       "      <th></th>\n",
       "      <th>item_name</th>\n",
       "      <th>description</th>\n",
       "      <th>category</th>\n",
       "      <th>price</th>\n",
       "      <th>colour</th>\n",
       "      <th>shop_name</th>\n",
       "    </tr>\n",
       "  </thead>\n",
       "  <tbody>\n",
       "    <tr>\n",
       "      <th>0</th>\n",
       "      <td>Sepatu Sneakers</td>\n",
       "      <td>Sepatu Sneakers adalah pilihan yang sempurna u...</td>\n",
       "      <td>Sepatu</td>\n",
       "      <td>100000</td>\n",
       "      <td>Putih</td>\n",
       "      <td>Home Essentials</td>\n",
       "    </tr>\n",
       "    <tr>\n",
       "      <th>1</th>\n",
       "      <td>Tas Ransel Stylish</td>\n",
       "      <td>Tas Ransel Stylish memberikan gaya dan fungsi ...</td>\n",
       "      <td>Tas</td>\n",
       "      <td>200000</td>\n",
       "      <td>Merah</td>\n",
       "      <td>Sports World</td>\n",
       "    </tr>\n",
       "    <tr>\n",
       "      <th>2</th>\n",
       "      <td>Kemeja Flanel Modern</td>\n",
       "      <td>Kemeja Flanel Modern memberikan tampilan yang ...</td>\n",
       "      <td>Kemeja</td>\n",
       "      <td>150000</td>\n",
       "      <td>Hijau</td>\n",
       "      <td>Gourmet Delights</td>\n",
       "    </tr>\n",
       "    <tr>\n",
       "      <th>3</th>\n",
       "      <td>Celana Jeans Slim Fit</td>\n",
       "      <td>Celana Jeans Slim Fit adalah pilihan yang tepa...</td>\n",
       "      <td>Celana</td>\n",
       "      <td>250000</td>\n",
       "      <td>Biru</td>\n",
       "      <td>Gadget Hub</td>\n",
       "    </tr>\n",
       "    <tr>\n",
       "      <th>4</th>\n",
       "      <td>Topi Fedora Elegan</td>\n",
       "      <td>Topi Fedora Elegan memberikan sentuhan klasik ...</td>\n",
       "      <td>Topi</td>\n",
       "      <td>50000</td>\n",
       "      <td>Abu-abu</td>\n",
       "      <td>Gourmet Delights</td>\n",
       "    </tr>\n",
       "  </tbody>\n",
       "</table>\n",
       "</div>"
      ],
      "text/plain": [
       "               item_name                                        description  \\\n",
       "0        Sepatu Sneakers  Sepatu Sneakers adalah pilihan yang sempurna u...   \n",
       "1     Tas Ransel Stylish  Tas Ransel Stylish memberikan gaya dan fungsi ...   \n",
       "2   Kemeja Flanel Modern  Kemeja Flanel Modern memberikan tampilan yang ...   \n",
       "3  Celana Jeans Slim Fit  Celana Jeans Slim Fit adalah pilihan yang tepa...   \n",
       "4     Topi Fedora Elegan  Topi Fedora Elegan memberikan sentuhan klasik ...   \n",
       "\n",
       "  category   price   colour         shop_name  \n",
       "0   Sepatu  100000    Putih   Home Essentials  \n",
       "1      Tas  200000    Merah      Sports World  \n",
       "2   Kemeja  150000    Hijau  Gourmet Delights  \n",
       "3   Celana  250000     Biru        Gadget Hub  \n",
       "4     Topi   50000  Abu-abu  Gourmet Delights  "
      ]
     },
     "execution_count": 12,
     "metadata": {},
     "output_type": "execute_result"
    }
   ],
   "source": [
    "# Load dataset\n",
    "file_path = '/Users/rioanggoro/Documents/skripsi/model/data_produk_fashion.csv'\n",
    "data = pd.read_csv(file_path)\n",
    "\n",
    "# Tampilkan beberapa baris pertama untuk memastikan data terbaca\n",
    "data.head()\n"
   ]
  },
  {
   "cell_type": "markdown",
   "metadata": {
    "id": "CduFuk_fRFXu"
   },
   "source": [
    " Preprocessing Teks pada Nama Produk"
   ]
  },
  {
   "cell_type": "code",
   "execution_count": 13,
   "metadata": {
    "id": "oSHvlHb5RLyQ"
   },
   "outputs": [],
   "source": [
    "# Pastikan kolom sesuai dan hapus nilai yang kosong\n",
    "data = data[['item_name', 'price']].dropna()\n",
    "\n",
    "# Split data menjadi fitur (X) dan target (y)\n",
    "X = data['item_name']\n",
    "y = data['price']\n"
   ]
  },
  {
   "cell_type": "markdown",
   "metadata": {
    "id": "l2Rw8AXxRyL3"
   },
   "source": [
    "Vektorisasi Nama Produk"
   ]
  },
  {
   "cell_type": "code",
   "execution_count": 14,
   "metadata": {
    "id": "KkGLAMY8Rym2"
   },
   "outputs": [],
   "source": [
    "vectorizer = TfidfVectorizer()\n",
    "X_vectorized = vectorizer.fit_transform(X)\n"
   ]
  },
  {
   "cell_type": "markdown",
   "metadata": {
    "id": "4uNA5JNdR_e_"
   },
   "source": [
    "Split Data untuk Training dan Testing"
   ]
  },
  {
   "cell_type": "code",
   "execution_count": 15,
   "metadata": {
    "id": "G7pXREqaSAH-"
   },
   "outputs": [],
   "source": [
    "X_train, X_test, y_train, y_test = train_test_split(X_vectorized, y, test_size=0.2, random_state=42)\n"
   ]
  },
  {
   "cell_type": "markdown",
   "metadata": {
    "id": "BeydO87xSCa8"
   },
   "source": [
    "Latih Model Linear Regression"
   ]
  },
  {
   "cell_type": "code",
   "execution_count": 16,
   "metadata": {
    "colab": {
     "base_uri": "https://localhost:8080/",
     "height": 80
    },
    "id": "-Hxbk9v5SEJ5",
    "outputId": "64dc98ea-51d5-44f8-a6cf-edf0473c9370"
   },
   "outputs": [
    {
     "data": {
      "text/html": [
       "<style>#sk-container-id-1 {color: black;}#sk-container-id-1 pre{padding: 0;}#sk-container-id-1 div.sk-toggleable {background-color: white;}#sk-container-id-1 label.sk-toggleable__label {cursor: pointer;display: block;width: 100%;margin-bottom: 0;padding: 0.3em;box-sizing: border-box;text-align: center;}#sk-container-id-1 label.sk-toggleable__label-arrow:before {content: \"▸\";float: left;margin-right: 0.25em;color: #696969;}#sk-container-id-1 label.sk-toggleable__label-arrow:hover:before {color: black;}#sk-container-id-1 div.sk-estimator:hover label.sk-toggleable__label-arrow:before {color: black;}#sk-container-id-1 div.sk-toggleable__content {max-height: 0;max-width: 0;overflow: hidden;text-align: left;background-color: #f0f8ff;}#sk-container-id-1 div.sk-toggleable__content pre {margin: 0.2em;color: black;border-radius: 0.25em;background-color: #f0f8ff;}#sk-container-id-1 input.sk-toggleable__control:checked~div.sk-toggleable__content {max-height: 200px;max-width: 100%;overflow: auto;}#sk-container-id-1 input.sk-toggleable__control:checked~label.sk-toggleable__label-arrow:before {content: \"▾\";}#sk-container-id-1 div.sk-estimator input.sk-toggleable__control:checked~label.sk-toggleable__label {background-color: #d4ebff;}#sk-container-id-1 div.sk-label input.sk-toggleable__control:checked~label.sk-toggleable__label {background-color: #d4ebff;}#sk-container-id-1 input.sk-hidden--visually {border: 0;clip: rect(1px 1px 1px 1px);clip: rect(1px, 1px, 1px, 1px);height: 1px;margin: -1px;overflow: hidden;padding: 0;position: absolute;width: 1px;}#sk-container-id-1 div.sk-estimator {font-family: monospace;background-color: #f0f8ff;border: 1px dotted black;border-radius: 0.25em;box-sizing: border-box;margin-bottom: 0.5em;}#sk-container-id-1 div.sk-estimator:hover {background-color: #d4ebff;}#sk-container-id-1 div.sk-parallel-item::after {content: \"\";width: 100%;border-bottom: 1px solid gray;flex-grow: 1;}#sk-container-id-1 div.sk-label:hover label.sk-toggleable__label {background-color: #d4ebff;}#sk-container-id-1 div.sk-serial::before {content: \"\";position: absolute;border-left: 1px solid gray;box-sizing: border-box;top: 0;bottom: 0;left: 50%;z-index: 0;}#sk-container-id-1 div.sk-serial {display: flex;flex-direction: column;align-items: center;background-color: white;padding-right: 0.2em;padding-left: 0.2em;position: relative;}#sk-container-id-1 div.sk-item {position: relative;z-index: 1;}#sk-container-id-1 div.sk-parallel {display: flex;align-items: stretch;justify-content: center;background-color: white;position: relative;}#sk-container-id-1 div.sk-item::before, #sk-container-id-1 div.sk-parallel-item::before {content: \"\";position: absolute;border-left: 1px solid gray;box-sizing: border-box;top: 0;bottom: 0;left: 50%;z-index: -1;}#sk-container-id-1 div.sk-parallel-item {display: flex;flex-direction: column;z-index: 1;position: relative;background-color: white;}#sk-container-id-1 div.sk-parallel-item:first-child::after {align-self: flex-end;width: 50%;}#sk-container-id-1 div.sk-parallel-item:last-child::after {align-self: flex-start;width: 50%;}#sk-container-id-1 div.sk-parallel-item:only-child::after {width: 0;}#sk-container-id-1 div.sk-dashed-wrapped {border: 1px dashed gray;margin: 0 0.4em 0.5em 0.4em;box-sizing: border-box;padding-bottom: 0.4em;background-color: white;}#sk-container-id-1 div.sk-label label {font-family: monospace;font-weight: bold;display: inline-block;line-height: 1.2em;}#sk-container-id-1 div.sk-label-container {text-align: center;}#sk-container-id-1 div.sk-container {/* jupyter's `normalize.less` sets `[hidden] { display: none; }` but bootstrap.min.css set `[hidden] { display: none !important; }` so we also need the `!important` here to be able to override the default hidden behavior on the sphinx rendered scikit-learn.org. See: https://github.com/scikit-learn/scikit-learn/issues/21755 */display: inline-block !important;position: relative;}#sk-container-id-1 div.sk-text-repr-fallback {display: none;}</style><div id=\"sk-container-id-1\" class=\"sk-top-container\"><div class=\"sk-text-repr-fallback\"><pre>LinearRegression()</pre><b>In a Jupyter environment, please rerun this cell to show the HTML representation or trust the notebook. <br />On GitHub, the HTML representation is unable to render, please try loading this page with nbviewer.org.</b></div><div class=\"sk-container\" hidden><div class=\"sk-item\"><div class=\"sk-estimator sk-toggleable\"><input class=\"sk-toggleable__control sk-hidden--visually\" id=\"sk-estimator-id-1\" type=\"checkbox\" checked><label for=\"sk-estimator-id-1\" class=\"sk-toggleable__label sk-toggleable__label-arrow\">LinearRegression</label><div class=\"sk-toggleable__content\"><pre>LinearRegression()</pre></div></div></div></div></div>"
      ],
      "text/plain": [
       "LinearRegression()"
      ]
     },
     "execution_count": 16,
     "metadata": {},
     "output_type": "execute_result"
    }
   ],
   "source": [
    "model = LinearRegression()\n",
    "model.fit(X_train, y_train)\n"
   ]
  },
  {
   "cell_type": "markdown",
   "metadata": {
    "id": "RuaWnNzYSHSJ"
   },
   "source": [
    "Evaluasi Model"
   ]
  },
  {
   "cell_type": "code",
   "execution_count": 20,
   "metadata": {
    "colab": {
     "base_uri": "https://localhost:8080/"
    },
    "id": "WDHqe88OSHmg",
    "outputId": "c96bd9b5-f599-4d8a-efc5-ec1c1d1a6aa9"
   },
   "outputs": [
    {
     "name": "stdout",
     "output_type": "stream",
     "text": [
      "Mean Absolute Error (MAE): 63707.93168000118\n"
     ]
    }
   ],
   "source": [
    "# Prediksi pada data testing\n",
    "y_pred = model.predict(X_test)\n",
    "\n",
    "# Hitung MAE\n",
    "mae = mean_absolute_error(y_test, y_pred)\n",
    "print(\"Mean Absolute Error (MAE):\", mae)\n"
   ]
  },
  {
   "cell_type": "markdown",
   "metadata": {
    "id": "R5ASs7NaSLOq"
   },
   "source": [
    "Fungsi Prediksi untuk Input Nama Produk Baru"
   ]
  },
  {
   "cell_type": "code",
   "execution_count": 37,
   "metadata": {
    "colab": {
     "base_uri": "https://localhost:8080/"
    },
    "id": "-r6ydIeRSMG_",
    "outputId": "002de3ae-ed4a-46f0-f231-36b74b76597f"
   },
   "outputs": [
    {
     "name": "stdout",
     "output_type": "stream",
     "text": [
      "Prediksi harga untuk 'sepatu sneakers kondisi masih baik': Rp 118246.99\n"
     ]
    }
   ],
   "source": [
    "def adjust_price_based_on_condition(item_name, base_price):\n",
    "    # Daftar kata kunci kondisi dan bobot diskon\n",
    "    condition_keywords = {\n",
    "    \"baru\": 1.0, \"segel\": 1.0, \"original\": 1.0, \"authentic\": 1.0,\n",
    "    \"bagus\": 0.9, \"baik\": 0.9, \"layak\": 0.9, \"bersih\": 0.9, \"terawat\": 0.9,\n",
    "    \"terpakai\": 0.8, \"bekas\": 0.8, \"second\": 0.8, \"used\": 0.8, \"preloved\": 0.8,\n",
    "    \"normal\": 0.8, \"sempurna\": 0.8, \"mulus\": 0.8, \"halus\": 0.8,\n",
    "    \"kotor\": 0.7, \"berdebu\": 0.7, \"debu\": 0.7, \"tergores\": 0.7, \"warna pudar\": 0.7,\n",
    "    \"usang\": 0.7, \"lama\": 0.7, \"belang\": 0.7, \"kusam\": 0.7,\n",
    "    \"lecet\": 0.6, \"berminyak\": 0.6, \"terkelupas\": 0.6, \"retak kecil\": 0.6, \"penyok\": 0.6,\n",
    "    \"terkikis\": 0.6, \"terbakar\": 0.6, \"menguning\": 0.6, \"berkerak\": 0.6,\n",
    "    \"rusak\": 0.5, \"pecah\": 0.5, \"berlubang\": 0.5, \"sobek\": 0.5, \"retak\": 0.5,\n",
    "    \"cacat\": 0.5, \"miring\": 0.5, \"tidak berfungsi\": 0.5, \"mati\": 0.5,\n",
    "    \"parah\": 0.4, \"jelek\": 0.4, \"berjamur\": 0.4, \"berkarat\": 0.4, \"hancur\": 0.4,\n",
    "    \"roboh\": 0.4, \"hilang bagian\": 0.4, \"tidak lengkap\": 0.4, \"tidak bisa dipakai\": 0.4,\n",
    "    \"usang sekali\": 0.3, \"rusak parah\": 0.3, \"patah\": 0.3, \"jebol\": 0.3, \"hancur lebur\": 0.3,\n",
    "    \"hangus\": 0.3, \"retak besar\": 0.3, \"luntur\": 0.3, \"hilang fungsi\": 0.3,\n",
    "    \"diperbaiki\": 0.6, \"rekondisi\": 0.6, \"reparasi\": 0.6, \"restorasi\": 0.6, \"perawatan\": 0.6,\n",
    "    \"retak halus\": 0.7, \"aus\": 0.6, \"berflek\": 0.7, \"warnanya memudar\": 0.7,\n",
    "    \"pernah diperbaiki\": 0.5, \"bagian lepas\": 0.5, \"longgar\": 0.7, \"goyang\": 0.7,\n",
    "    \"kendur\": 0.7, \"tidak kokoh\": 0.6, \"rapuh\": 0.4, \"mengeras\": 0.6, \"rapat\": 0.9,\n",
    "    \"bergores\": 0.7, \"memudar\": 0.6, \"kusut\": 0.6, \"longgar\": 0.6, \"sobek halus\": 0.6,\n",
    "    \"tambalan\": 0.7, \"plesteran\": 0.7, \"pernah dipakai\": 0.8, \"pakai sehari-hari\": 0.9,\n",
    "    \"tidak sempurna\": 0.5, \"cacat pabrik\": 0.7, \"kain lusuh\": 0.7, \"serabut\": 0.7,\n",
    "    \"tanda pemakaian\": 0.7, \"kulit retak\": 0.5, \"jaring berlubang\": 0.5, \"benang keluar\": 0.5,\n",
    "    \"berlubang kecil\": 0.6, \"retak ringan\": 0.7, \"pengelupasan\": 0.5, \"bekas pakai\": 0.8\n",
    "}\n",
    "\n",
    "\n",
    " # Daftar kata kunci untuk gender\n",
    "    gender_keywords = {\n",
    "        \"pria\": 1.0,  \n",
    "        \"wanita\": 1.0  \n",
    "    }\n",
    "    \n",
    "    # Inisialisasi multiplier\n",
    "    adjustment_multiplier = 1.0\n",
    "    gender_multiplier = 1.0\n",
    "\n",
    "    # Cek setiap kata kunci kondisi di nama produk\n",
    "    for word, multiplier in condition_keywords.items():\n",
    "        if word in item_name.lower():\n",
    "            adjustment_multiplier = min(adjustment_multiplier, multiplier)  # Ambil diskon terbesar\n",
    "\n",
    "    # Cek setiap kata kunci gender di nama produk\n",
    "    for gender, gender_adjust in gender_keywords.items():\n",
    "        if gender in item_name.lower():\n",
    "            gender_multiplier = gender_adjust  # Gunakan multiplier berdasarkan gender\n",
    "\n",
    "    # Hitung harga yang disesuaikan\n",
    "    adjusted_price = base_price * adjustment_multiplier * gender_multiplier\n",
    "    return adjusted_price\n",
    "def predict_price(item_name):\n",
    "    item_name_vectorized = vectorizer.transform([item_name])\n",
    "    base_price = model.predict(item_name_vectorized)[0]\n",
    "    return base_price\n",
    "# Fungsi prediksi dengan penyesuaian\n",
    "def predict_price_with_condition(item_name):\n",
    "    base_price = predict_price(item_name)  # Prediksi harga dari model\n",
    "    adjusted_price = adjust_price_based_on_condition(item_name, base_price)\n",
    "    return adjusted_price\n",
    "\n",
    "# Contoh penggunaan\n",
    "nama_produk_baru = \"sepatu sneakers kondisi masih baik\"\n",
    "print(\"Prediksi harga untuk '{}': Rp {:.2f}\".format(nama_produk_baru, predict_price_with_condition(nama_produk_baru)))"
   ]
  },
  {
   "cell_type": "code",
   "execution_count": 34,
   "metadata": {
    "colab": {
     "base_uri": "https://localhost:8080/"
    },
    "id": "lUVE_pHGYDsh",
    "outputId": "b919401f-4529-48c4-a4e1-175fa3374e36"
   },
   "outputs": [
    {
     "name": "stdout",
     "output_type": "stream",
     "text": [
      "Model dan vectorizer berhasil disimpan!\n"
     ]
    }
   ],
   "source": [
    "import joblib\n",
    "import os\n",
    "\n",
    "# Buat direktori jika belum ada\n",
    "os.makedirs('deployment/model', exist_ok=True)\n",
    "\n",
    "# Simpan model dan vectorizer\n",
    "joblib.dump(model, 'deployment/model/model_prediksi_harga.pkl')\n",
    "joblib.dump(vectorizer, 'deployment/model/vectorizer.pkl')\n",
    "\n",
    "print(\"Model dan vectorizer berhasil disimpan!\")\n"
   ]
  }
 ],
 "metadata": {
  "colab": {
   "provenance": []
  },
  "kernelspec": {
   "display_name": "Python 3",
   "name": "python3"
  },
  "language_info": {
   "codemirror_mode": {
    "name": "ipython",
    "version": 3
   },
   "file_extension": ".py",
   "mimetype": "text/x-python",
   "name": "python",
   "nbconvert_exporter": "python",
   "pygments_lexer": "ipython3",
   "version": "3.11.5"
  }
 },
 "nbformat": 4,
 "nbformat_minor": 0
}
